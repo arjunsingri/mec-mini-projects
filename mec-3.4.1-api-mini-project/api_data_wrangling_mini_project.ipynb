{
  "nbformat": 4,
  "nbformat_minor": 0,
  "metadata": {
    "kernelspec": {
      "display_name": "Python 3",
      "language": "python",
      "name": "python3"
    },
    "language_info": {
      "codemirror_mode": {
        "name": "ipython",
        "version": 3
      },
      "file_extension": ".py",
      "mimetype": "text/x-python",
      "name": "python",
      "nbconvert_exporter": "python",
      "pygments_lexer": "ipython3",
      "version": "3.6.4"
    },
    "colab": {
      "name": "api_data_wrangling_mini_project.ipynb",
      "provenance": [],
      "include_colab_link": true
    }
  },
  "cells": [
    {
      "cell_type": "markdown",
      "metadata": {
        "id": "view-in-github",
        "colab_type": "text"
      },
      "source": [
        "<a href=\"https://colab.research.google.com/github/arjunsingri/mec-mini-projects/blob/master/mec-3.4.1-api-mini-project/api_data_wrangling_mini_project.ipynb\" target=\"_parent\"><img src=\"https://colab.research.google.com/assets/colab-badge.svg\" alt=\"Open In Colab\"/></a>"
      ]
    },
    {
      "cell_type": "markdown",
      "metadata": {
        "id": "5BAB2Ju5nG3Z"
      },
      "source": [
        "This exercise will require you to pull some data from the Qunadl API. Qaundl is currently the most widely used aggregator of financial market data."
      ]
    },
    {
      "cell_type": "markdown",
      "metadata": {
        "id": "_jRhb_z0nG3b"
      },
      "source": [
        "As a first step, you will need to register a free account on the http://www.quandl.com website."
      ]
    },
    {
      "cell_type": "markdown",
      "metadata": {
        "id": "wE93N3pInG3c"
      },
      "source": [
        "After you register, you will be provided with a unique API key, that you should store:"
      ]
    },
    {
      "cell_type": "code",
      "metadata": {
        "collapsed": true,
        "id": "w-wqQfiznG3c"
      },
      "source": [
        "# Store the API key as a string - according to PEP8, constants are always named in all upper case\n",
        "API_KEY = 'vs8eiE7CSsRzwViRCGiT'"
      ],
      "execution_count": 4,
      "outputs": []
    },
    {
      "cell_type": "markdown",
      "metadata": {
        "id": "dkKXSQeVnG3d"
      },
      "source": [
        "Qaundl has a large number of data sources, but, unfortunately, most of them require a Premium subscription. Still, there are also a good number of free datasets."
      ]
    },
    {
      "cell_type": "markdown",
      "metadata": {
        "id": "pY_Y_8ihnG3d"
      },
      "source": [
        "For this mini project, we will focus on equities data from the Frankfurt Stock Exhange (FSE), which is available for free. We'll try and analyze the stock prices of a company called Carl Zeiss Meditec, which manufactures tools for eye examinations, as well as medical lasers for laser eye surgery: https://www.zeiss.com/meditec/int/home.html. The company is listed under the stock ticker AFX_X."
      ]
    },
    {
      "cell_type": "markdown",
      "metadata": {
        "id": "W7-WudpmnG3e"
      },
      "source": [
        "You can find the detailed Quandl API instructions here: https://docs.quandl.com/docs/time-series"
      ]
    },
    {
      "cell_type": "markdown",
      "metadata": {
        "id": "V0rO343_nG3f"
      },
      "source": [
        "While there is a dedicated Python package for connecting to the Quandl API, we would prefer that you use the *requests* package, which can be easily downloaded using *pip* or *conda*. You can find the documentation for the package here: http://docs.python-requests.org/en/master/ "
      ]
    },
    {
      "cell_type": "markdown",
      "metadata": {
        "id": "P7X1y9ZFnG3f"
      },
      "source": [
        "Finally, apart from the *requests* package, you are encouraged to not use any third party Python packages, such as *pandas*, and instead focus on what's available in the Python Standard Library (the *collections* module might come in handy: https://pymotw.com/3/collections/).\n",
        "Also, since you won't have access to DataFrames, you are encouraged to us Python's native data structures - preferably dictionaries, though some questions can also be answered using lists.\n",
        "You can read more on these data structures here: https://docs.python.org/3/tutorial/datastructures.html"
      ]
    },
    {
      "cell_type": "markdown",
      "metadata": {
        "id": "GH4GwV6KnG3g"
      },
      "source": [
        "Keep in mind that the JSON responses you will be getting from the API map almost one-to-one to Python's dictionaries. Unfortunately, they can be very nested, so make sure you read up on indexing dictionaries in the documentation provided above."
      ]
    },
    {
      "cell_type": "code",
      "metadata": {
        "collapsed": true,
        "id": "Ci_wqd9SnG3h"
      },
      "source": [
        "# First, import the relevant modules\n",
        "import requests\n",
        "import json\n",
        "\n"
      ],
      "execution_count": 5,
      "outputs": []
    },
    {
      "cell_type": "code",
      "metadata": {
        "collapsed": true,
        "colab": {
          "base_uri": "https://localhost:8080/",
          "height": 198
        },
        "id": "tLYhXnWanG3h",
        "outputId": "aba51b83-3a17-4d83-91c2-afdcdefe7b3f"
      },
      "source": [
        "# Now, call the Quandl API and pull out a small sample of the data (only one day) to get a glimpse\n",
        "# into the JSON structure that will be returned\n",
        "response = requests.get(\"http://www.quandl.com/api/v3/datasets/XFRA/AGB2_UADJ/data.json?ticker=AFX_X&api_key={}&start_date=2017-01-01&end_date=2017-12-31\".format(API_KEY))"
      ],
      "execution_count": 1,
      "outputs": [
        {
          "output_type": "error",
          "ename": "NameError",
          "evalue": "ignored",
          "traceback": [
            "\u001b[0;31m---------------------------------------------------------------------------\u001b[0m",
            "\u001b[0;31mNameError\u001b[0m                                 Traceback (most recent call last)",
            "\u001b[0;32m<ipython-input-1-ea52b6532fa2>\u001b[0m in \u001b[0;36m<module>\u001b[0;34m()\u001b[0m\n\u001b[1;32m      1\u001b[0m \u001b[0;31m# Now, call the Quandl API and pull out a small sample of the data (only one day) to get a glimpse\u001b[0m\u001b[0;34m\u001b[0m\u001b[0;34m\u001b[0m\u001b[0;34m\u001b[0m\u001b[0m\n\u001b[1;32m      2\u001b[0m \u001b[0;31m# into the JSON structure that will be returned\u001b[0m\u001b[0;34m\u001b[0m\u001b[0;34m\u001b[0m\u001b[0;34m\u001b[0m\u001b[0m\n\u001b[0;32m----> 3\u001b[0;31m \u001b[0mresponse\u001b[0m \u001b[0;34m=\u001b[0m \u001b[0mrequests\u001b[0m\u001b[0;34m.\u001b[0m\u001b[0mget\u001b[0m\u001b[0;34m(\u001b[0m\u001b[0;34m\"http://www.quandl.com/api/v3/datasets/XFRA/AGB2_UADJ/data.json?ticker=AFX_X&api_key={}&start_date=2017-01-01&end_date=2017-12-31\"\u001b[0m\u001b[0;34m.\u001b[0m\u001b[0mformat\u001b[0m\u001b[0;34m(\u001b[0m\u001b[0mAPI_KEY\u001b[0m\u001b[0;34m)\u001b[0m\u001b[0;34m)\u001b[0m\u001b[0;34m\u001b[0m\u001b[0;34m\u001b[0m\u001b[0m\n\u001b[0m",
            "\u001b[0;31mNameError\u001b[0m: name 'requests' is not defined"
          ]
        }
      ]
    },
    {
      "cell_type": "code",
      "metadata": {
        "collapsed": true,
        "id": "WH-ObfxQnG3h",
        "outputId": "c2c05e81-aced-422d-ef30-717c39749ac1",
        "colab": {
          "base_uri": "https://localhost:8080/"
        }
      },
      "source": [
        "# Inspect the JSON structure of the object you created, and take note of how nested it is,\n",
        "# as well as the overall structure\n",
        "response_dict = response.json()\n",
        "print(response_dict)"
      ],
      "execution_count": 40,
      "outputs": [
        {
          "output_type": "stream",
          "text": [
            "{'dataset_data': {'limit': 10, 'transform': None, 'column_index': None, 'column_names': ['Date', 'Open', 'High', 'Low', 'Close', 'Volume', 'Adjustment Factor', 'Adjustment Type'], 'start_date': '2017-01-01', 'end_date': '2017-12-31', 'frequency': 'daily', 'data': [['2017-12-29', 103.333, 103.999, 103.288, 103.288, 310.0, None, None], ['2017-12-28', 102.389, 102.389, 102.389, 102.389, 0.0, None, None], ['2017-12-27', 102.574, 103.6, 102.574, 103.6, 404.0, None, None], ['2017-12-26', 102.958, 102.958, 102.958, 102.958, 0.0, None, None], ['2017-12-25', 102.958, 102.958, 102.958, 102.958, 0.0, None, None], ['2017-12-22', 102.412, 103.479, 102.412, 102.958, 179.0, None, None], ['2017-12-21', 101.055, 101.055, 101.055, 101.055, 0.0, None, None], ['2017-12-20', 101.724, 102.1, 101.724, 102.1, 150.0, None, None], ['2017-12-19', 102.033, 102.586, 101.609, 102.586, 140.0, None, None], ['2017-12-18', 102.161, 103.45, 102.161, 103.45, 47.0, None, None]], 'collapse': None, 'order': None}}\n"
          ],
          "name": "stdout"
        }
      ]
    },
    {
      "cell_type": "markdown",
      "metadata": {
        "id": "8h6xr3s9nG3i"
      },
      "source": [
        "These are your tasks for this mini project:\n",
        "\n",
        "1. Collect data from the Franfurt Stock Exchange, for the ticker AFX_X, for the whole year 2017 (keep in mind that the date format is YYYY-MM-DD).\n",
        "2. Convert the returned JSON object into a Python dictionary.\n",
        "3. Calculate what the highest and lowest opening prices were for the stock in this period.\n",
        "4. What was the largest change in any one day (based on High and Low price)?\n",
        "5. What was the largest change between any two days (based on Closing Price)?\n",
        "6. What was the average daily trading volume during this year?\n",
        "7. (Optional) What was the median trading volume during this year. (Note: you may need to implement your own function for calculating the median.)"
      ]
    },
    {
      "cell_type": "code",
      "metadata": {
        "collapsed": true,
        "id": "zdG9YT79nG3i",
        "outputId": "91663564-84db-4450-8cdd-1448884c60a9",
        "colab": {
          "base_uri": "https://localhost:8080/"
        }
      },
      "source": [
        "open_price_index = 1\n",
        "highest = None\n",
        "lowest = None\n",
        "change_in_a_day = None\n",
        "\n",
        "data = response_dict.get('dataset_data', {}).get('data', [])\n",
        "\n",
        "for record in data:\n",
        "  opening_price = float(record[open_price_index])\n",
        "  if lowest is None or highest is None:\n",
        "    highest = lowest = opening_price\n",
        "  else:\n",
        "    if highest < opening_price:\n",
        "      highest = opening_price\n",
        "    if lowest > opening_price:\n",
        "      lowest = opening_price\n",
        "\n",
        "print(lowest, highest)"
      ],
      "execution_count": 42,
      "outputs": [
        {
          "output_type": "stream",
          "text": [
            "101.055 103.333\n"
          ],
          "name": "stdout"
        }
      ]
    }
  ]
}