{
  "nbformat": 4,
  "nbformat_minor": 0,
  "metadata": {
    "kernelspec": {
      "display_name": "Python 3",
      "language": "python",
      "name": "python3"
    },
    "language_info": {
      "codemirror_mode": {
        "name": "ipython",
        "version": 3
      },
      "file_extension": ".py",
      "mimetype": "text/x-python",
      "name": "python",
      "nbconvert_exporter": "python",
      "pygments_lexer": "ipython3",
      "version": "3.6.4"
    },
    "colab": {
      "name": "api_data_wrangling_mini_project.ipynb",
      "provenance": [],
      "include_colab_link": true
    }
  },
  "cells": [
    {
      "cell_type": "markdown",
      "metadata": {
        "id": "view-in-github",
        "colab_type": "text"
      },
      "source": [
        "<a href=\"https://colab.research.google.com/github/arjunsingri/mec-mini-projects/blob/master/mec-3.4.1-api-mini-project/api_data_wrangling_mini_project.ipynb\" target=\"_parent\"><img src=\"https://colab.research.google.com/assets/colab-badge.svg\" alt=\"Open In Colab\"/></a>"
      ]
    },
    {
      "cell_type": "markdown",
      "metadata": {
        "id": "5BAB2Ju5nG3Z"
      },
      "source": [
        "This exercise will require you to pull some data from the Qunadl API. Qaundl is currently the most widely used aggregator of financial market data."
      ]
    },
    {
      "cell_type": "markdown",
      "metadata": {
        "id": "_jRhb_z0nG3b"
      },
      "source": [
        "As a first step, you will need to register a free account on the http://www.quandl.com website."
      ]
    },
    {
      "cell_type": "markdown",
      "metadata": {
        "id": "wE93N3pInG3c"
      },
      "source": [
        "After you register, you will be provided with a unique API key, that you should store:"
      ]
    },
    {
      "cell_type": "code",
      "metadata": {
        "collapsed": true,
        "id": "w-wqQfiznG3c"
      },
      "source": [
        "# Store the API key as a string - according to PEP8, constants are always named in all upper case\n",
        "API_KEY = 'vs8eiE7CSsRzwViRCGiT'"
      ],
      "execution_count": 2,
      "outputs": []
    },
    {
      "cell_type": "markdown",
      "metadata": {
        "id": "dkKXSQeVnG3d"
      },
      "source": [
        "Qaundl has a large number of data sources, but, unfortunately, most of them require a Premium subscription. Still, there are also a good number of free datasets."
      ]
    },
    {
      "cell_type": "markdown",
      "metadata": {
        "id": "pY_Y_8ihnG3d"
      },
      "source": [
        "For this mini project, we will focus on equities data from the Frankfurt Stock Exhange (FSE), which is available for free. We'll try and analyze the stock prices of a company called Carl Zeiss Meditec, which manufactures tools for eye examinations, as well as medical lasers for laser eye surgery: https://www.zeiss.com/meditec/int/home.html. The company is listed under the stock ticker AFX_X."
      ]
    },
    {
      "cell_type": "markdown",
      "metadata": {
        "id": "W7-WudpmnG3e"
      },
      "source": [
        "You can find the detailed Quandl API instructions here: https://docs.quandl.com/docs/time-series"
      ]
    },
    {
      "cell_type": "markdown",
      "metadata": {
        "id": "V0rO343_nG3f"
      },
      "source": [
        "While there is a dedicated Python package for connecting to the Quandl API, we would prefer that you use the *requests* package, which can be easily downloaded using *pip* or *conda*. You can find the documentation for the package here: http://docs.python-requests.org/en/master/ "
      ]
    },
    {
      "cell_type": "markdown",
      "metadata": {
        "id": "P7X1y9ZFnG3f"
      },
      "source": [
        "Finally, apart from the *requests* package, you are encouraged to not use any third party Python packages, such as *pandas*, and instead focus on what's available in the Python Standard Library (the *collections* module might come in handy: https://pymotw.com/3/collections/).\n",
        "Also, since you won't have access to DataFrames, you are encouraged to us Python's native data structures - preferably dictionaries, though some questions can also be answered using lists.\n",
        "You can read more on these data structures here: https://docs.python.org/3/tutorial/datastructures.html"
      ]
    },
    {
      "cell_type": "markdown",
      "metadata": {
        "id": "GH4GwV6KnG3g"
      },
      "source": [
        "Keep in mind that the JSON responses you will be getting from the API map almost one-to-one to Python's dictionaries. Unfortunately, they can be very nested, so make sure you read up on indexing dictionaries in the documentation provided above."
      ]
    },
    {
      "cell_type": "code",
      "metadata": {
        "collapsed": true,
        "id": "Ci_wqd9SnG3h"
      },
      "source": [
        "# First, import the relevant modules\n",
        "import requests\n",
        "import json\n",
        "\n"
      ],
      "execution_count": 3,
      "outputs": []
    },
    {
      "cell_type": "code",
      "metadata": {
        "collapsed": true,
        "id": "tLYhXnWanG3h"
      },
      "source": [
        "# Now, call the Quandl API and pull out a small sample of the data (only one day) to get a glimpse\n",
        "# into the JSON structure that will be returned\n",
        "response = requests.get(\"http://www.quandl.com/api/v3/datasets/XFRA/AGB2_UADJ/data.json?ticker=AFX_X&api_key={}&start_date=2017-01-01&end_date=2017-12-31\".format(API_KEY))"
      ],
      "execution_count": 4,
      "outputs": []
    },
    {
      "cell_type": "code",
      "metadata": {
        "collapsed": true,
        "id": "WH-ObfxQnG3h"
      },
      "source": [
        "# Inspect the JSON structure of the object you created, and take note of how nested it is,\n",
        "# as well as the overall structure\n",
        "response_dict = response.json()"
      ],
      "execution_count": 15,
      "outputs": []
    },
    {
      "cell_type": "markdown",
      "metadata": {
        "id": "8h6xr3s9nG3i"
      },
      "source": [
        "These are your tasks for this mini project:\n",
        "\n",
        "1. Collect data from the Franfurt Stock Exchange, for the ticker AFX_X, for the whole year 2017 (keep in mind that the date format is YYYY-MM-DD).\n",
        "2. Convert the returned JSON object into a Python dictionary.\n",
        "3. Calculate what the highest and lowest opening prices were for the stock in this period.\n",
        "4. What was the largest change in any one day (based on High and Low price)?\n",
        "5. What was the largest change between any two days (based on Closing Price)?\n",
        "6. What was the average daily trading volume during this year?\n",
        "7. (Optional) What was the median trading volume during this year. (Note: you may need to implement your own function for calculating the median.)"
      ]
    },
    {
      "cell_type": "code",
      "metadata": {
        "collapsed": true,
        "id": "zdG9YT79nG3i",
        "colab": {
          "base_uri": "https://localhost:8080/"
        },
        "outputId": "85d950ff-b38d-4494-f4e2-d822ee947e59"
      },
      "source": [
        "open_price_index = 1\n",
        "high_index = 2\n",
        "low_index = 3\n",
        "close_index = 4\n",
        "volume_index = 5\n",
        "\n",
        "highest = None\n",
        "lowest = None\n",
        "change_in_a_day = None\n",
        "largest_close = None\n",
        "previous_close = None\n",
        "close_price = None\n",
        "all_volumes = []\n",
        "\n",
        "data = response_dict.get('dataset_data', {}).get('data', [])\n",
        "\n",
        "for record in data:\n",
        "  opening_price = float(record[open_price_index])\n",
        "  lowest_day = float(record[low_index])\n",
        "  highest_day = float(record[high_index])\n",
        "  change_day = (highest_day - lowest_day)\n",
        "  previous_close = close_price\n",
        "  close_price = float(record[close_index])\n",
        "  all_volumes.append(record[volume_index])\n",
        "\n",
        "  if previous_close is not None:\n",
        "    if largest_close is None:\n",
        "      largest_close = close_price - previous_close\n",
        "    elif largest_close > (close_price - previous_close):\n",
        "      largest_close = close_price - previous_close\n",
        "\n",
        "  if change_in_a_day is None:\n",
        "      change_in_a_day = change_day\n",
        "  elif change_in_a_day < change_day:\n",
        "    change_in_a_day = change_day\n",
        "\n",
        "  if lowest is None and highest is None:\n",
        "    highest = lowest = opening_price\n",
        "  else:\n",
        "    if highest < opening_price:\n",
        "      highest = opening_price\n",
        "    if lowest > opening_price:\n",
        "      lowest = opening_price\n",
        "\n",
        "all_volumes.sort()\n",
        "\n",
        "print((lowest, highest), change_in_a_day, largest_close, sum(all_volumes)/len(all_volumes), all_volumes[int(len(all_volumes)/2)])"
      ],
      "execution_count": 16,
      "outputs": [
        {
          "output_type": "stream",
          "text": [
            "(91.0, 126.0) 11.358000000000004 -8.537999999999997 131.3576923076923 50.0\n"
          ],
          "name": "stdout"
        }
      ]
    }
  ]
}